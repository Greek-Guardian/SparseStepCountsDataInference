{
 "cells": [
  {
   "cell_type": "code",
   "execution_count": 1,
   "metadata": {},
   "outputs": [],
   "source": [
    "from MLP_GRU import *\n",
    "from tqdm import tqdm\n",
    "import matplotlib.pyplot as plt\n",
    "import torch\n",
    "import sys\n",
    "import os\n",
    "from IPython.display import clear_output"
   ]
  },
  {
   "cell_type": "code",
   "execution_count": 2,
   "metadata": {},
   "outputs": [
    {
     "data": {
      "text/plain": [
       "MLP_GRU(\n",
       "  (gamma_x_l): Linear(in_features=256, out_features=1, bias=True)\n",
       "  (gru_cell): GRUCell(2, 64)\n",
       "  (mlp_model): Sequential(\n",
       "    (0): Linear(in_features=3, out_features=256, bias=True)\n",
       "    (1): ReLU()\n",
       "  )\n",
       "  (fc): Linear(in_features=64, out_features=70, bias=True)\n",
       ")"
      ]
     },
     "execution_count": 2,
     "metadata": {},
     "output_type": "execute_result"
    }
   ],
   "source": [
    "# load model\n",
    "file_path = os.getcwd()\n",
    "model_path = file_path + r'/result_20240905.pt'\n",
    "# model_path = r'D:\\vscode_workspace\\Python\\SparseStepCountsDataInference\\models\\MLP_GRU\\result.pt'\n",
    "device = torch.device('cuda' if torch.cuda.is_available() else 'cpu')\n",
    "model_state_dict = torch.load(model_path, map_location=device)\n",
    "model = MLP_GRU(input_size=1, gru_hidden_size=64, mlp_hidden_size=256, mlp_layer=1, output_size=70, use_gpu=True,\n",
    "                      device=0, output_last=True)\n",
    "model.load_state_dict(model_state_dict)\n",
    "model.to(device)"
   ]
  },
  {
   "cell_type": "code",
   "execution_count": 3,
   "metadata": {},
   "outputs": [],
   "source": [
    "if 0:\n",
    "    # load data\n",
    "    root_path = \"../../StepCountsDataset/\"\n",
    "    granularity = 3\n",
    "    final_train_labels, test_labels, train_x, test_x, raw_train_x, raw_test_x = prepare_mixed_data_granularity(root_path, granularity)\n",
    "    train_loader, test_loader = prepare_train_test_data(train_data=train_x,\n",
    "                                                        test_data=test_x,\n",
    "                                                        train_labels=final_train_labels,\n",
    "                                                        test_labels=test_labels,\n",
    "                                                        raw_train_data=raw_train_x,\n",
    "                                                        raw_test_data=raw_test_x,\n",
    "                                                        batch_size=100)\n",
    "    correct_pred = 0\n",
    "    total_num = 0\n",
    "    model.eval()\n",
    "    for data, label, raw_data in tqdm(test_loader):\n",
    "        data = data.to(device)\n",
    "        label = label.to(device)\n",
    "        raw_data = raw_data.to(device)\n",
    "        output, _ = model(data)\n",
    "        correct_pred += (label == output.argmax(1)).sum().item()\n",
    "        total_num += label.size(0)\n",
    "    print(\"correct_pred: \", correct_pred)\n",
    "    print(\"total_num: \", total_num)\n",
    "    print(\"Train Accuracy: \", correct_pred / total_num)"
   ]
  },
  {
   "cell_type": "code",
   "execution_count": 4,
   "metadata": {},
   "outputs": [
    {
     "name": "stdout",
     "output_type": "stream",
     "text": [
      "index: 14\n",
      "label: 21\n",
      "output: 23\n"
     ]
    },
    {
     "data": {
      "image/png": "[encoded data removed]",
      "text/plain": [
       "<Figure size 640x480 with 1 Axes>"
      ]
     },
     "metadata": {},
     "output_type": "display_data"
    },
    {
     "name": "stderr",
     "output_type": "stream",
     "text": [
      "  0%|          | 0/34 [00:11<?, ?it/s]\n"
     ]
    }
   ],
   "source": [
    "model.eval()\n",
    "# retain_number=[[278,283],[268,278],[238,268],[188,238],[138,188],[5,10]]\n",
    "retain_number=[[188,238]]\n",
    "root_path = \"../../StepCountsDataset/\"\n",
    "granularity = 3\n",
    "final_train_labels, test_labels, train_x, test_x, raw_train_x, raw_test_x = prepare_mixed_data_granularity(root_path, granularity, retain_number=retain_number)\n",
    "train_loader, test_loader = prepare_train_test_data(train_data=train_x,\n",
    "                                                    test_data=test_x,\n",
    "                                                    train_labels=final_train_labels,\n",
    "                                                    test_labels=test_labels,\n",
    "                                                    raw_train_data=raw_train_x,\n",
    "                                                    raw_test_data=raw_test_x,\n",
    "                                                    batch_size=100)\n",
    "index = 0\n",
    "data_iter = iter(test_loader)\n",
    "for data, label, raw_data in tqdm(data_iter):\n",
    "    data = data.to(device)\n",
    "    label = label.to(device)\n",
    "    raw_data = raw_data.to(device)\n",
    "    output, x_pred = model(data)\n",
    "    for i in range(output.shape[0]):\n",
    "        clear_output()\n",
    "        print(\"index: \", index, '\\n', \"label: \", label[i].item(), '\\n', \"output: \", output[i].argmax(0).item(), sep='')\n",
    "        index += 1\n",
    "        # Plot\n",
    "        plt.plot(raw_data[i, :].detach().cpu().numpy(), label='raw_data')\n",
    "        plt.plot(data[i, 4, :, 0].detach().cpu().numpy(), label='lastobs')\n",
    "        # plot data points\n",
    "        mask = data[i, 0, :, 0].cpu().numpy()\n",
    "        data_points = [(j, data[i, 1, j, 0].item()) for j in range(len(mask)) if mask[j] != -1.]\n",
    "        for point in data_points:\n",
    "            plt.plot(point[0], point[1], 'ro') \n",
    "        # plt.plot(data_points, label='data')\n",
    "        plt.plot(x_pred[i].detach().cpu().numpy(), label='x_pred')\n",
    "        plt.xlabel('Index')\n",
    "        plt.ylabel('Value')\n",
    "        plt.legend()\n",
    "        plt.show()\n",
    "\n",
    "        quit_flag = input(\"Press [enter] to continue.\")\n",
    "        if quit_flag != \"\":\n",
    "            break\n",
    "    if quit_flag != \"\":\n",
    "        break"
   ]
  }
 ],
 "metadata": {
  "kernelspec": {
   "display_name": "Python 3",
   "language": "python",
   "name": "python3"
  },
  "language_info": {
   "codemirror_mode": {
    "name": "ipython",
    "version": 3
   },
   "file_extension": ".py",
   "mimetype": "text/x-python",
   "name": "python",
   "nbconvert_exporter": "python",
   "pygments_lexer": "ipython3",
   "version": "3.10.12"
  }
 },
 "nbformat": 4,
 "nbformat_minor": 2
}
